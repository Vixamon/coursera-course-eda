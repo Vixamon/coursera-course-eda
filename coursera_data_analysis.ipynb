{
 "cells": [
  {
   "cell_type": "markdown",
   "metadata": {},
   "source": [
    "# Exploratory Data Analysis of Coursera Dataset"
   ]
  },
  {
   "cell_type": "markdown",
   "metadata": {},
   "source": [
    "## 1. Goal of the analysis"
   ]
  },
  {
   "cell_type": "markdown",
   "metadata": {},
   "source": [
    "### 1.1 The goal of this analysis is to uncover valuable insights into the factors that influence course success within our dataset. By examining various features such as enrollments, difficulty levels, certificate types, and course ratings, we aim to understand the dynamics of course popularity and engagement."
   ]
  },
  {
   "cell_type": "markdown",
   "metadata": {},
   "source": [
    "### 1.2 This EDA will focus on several key objectives:\n",
    "\n",
    "- **Understanding the course popularity and engagement**: we will identify trends in course popularity by enrolments and frequency of different course levels;\n",
    "- **Evaluate the course ratings**: we will explore how course difficulty can influence the average ratings;\n",
    "- **Analyzing certificate types**: by examining the distribution of various certificate types, we can identify which courses are most in demand among learners;\n",
    "- **Difficulty level insights**: we will examine the distribution of difficulty levels and how they impact the popularity.\n",
    "\n",
    "Ultimately, this analysis will serve as a valuable resource in identifying the key elements that contribute to a successful course."
   ]
  },
  {
   "cell_type": "markdown",
   "metadata": {},
   "source": [
    "### 1.3 First, we import the main libraries and create a consistent visual colormap we will use for the analysis."
   ]
  },
  {
   "cell_type": "code",
   "execution_count": null,
   "metadata": {},
   "outputs": [],
   "source": [
    "import pandas as pd\n",
    "import numpy as np\n",
    "import matplotlib.pyplot as plt\n",
    "from matplotlib.colors import LinearSegmentedColormap\n",
    "import seaborn as sns\n",
    "from src.utilities import find_outliers, add_labels"
   ]
  },
  {
   "cell_type": "code",
   "execution_count": null,
   "metadata": {},
   "outputs": [],
   "source": [
    "pd.set_option('display.max_colwidth', None)\n",
    "plt.rcParams['figure.figsize'] = (10, 6)\n",
    "colors=[\"#B68F40\", \"#30011E\", \"#348AA7\", \"#545454\", \"#DDFFF7\"]\n",
    "sns.set_theme(style=\"white\")\n",
    "sns.set_palette(sns.color_palette(colors))\n",
    "cmap = LinearSegmentedColormap.from_list(\"custom_cmap\", [\"#B68F40\",\"#DDFFF7\",\"#30011E\"], N=256)"
   ]
  },
  {
   "cell_type": "markdown",
   "metadata": {},
   "source": [
    "## 2. Data Cleaning"
   ]
  },
  {
   "cell_type": "markdown",
   "metadata": {},
   "source": [
    "### 2.1 Now, let's import the dataset and check what we're working with"
   ]
  },
  {
   "cell_type": "code",
   "execution_count": null,
   "metadata": {},
   "outputs": [],
   "source": [
    "df = pd.read_csv(\"coursera_data.csv\")\n",
    "df.head()"
   ]
  },
  {
   "cell_type": "markdown",
   "metadata": {},
   "source": [
    "It seems like there's just a few features we are working with - this will make our analysis more simple for now."
   ]
  },
  {
   "cell_type": "markdown",
   "metadata": {},
   "source": [
    "### 2.2 We clean the dataset by dropping the \"**Unnamed**\" column, changing the student enrollment values to full numbers for future mathematical comparisons and renaming columns for easier visualization."
   ]
  },
  {
   "cell_type": "code",
   "execution_count": null,
   "metadata": {},
   "outputs": [],
   "source": [
    "df = (df.drop(\"Unnamed: 0\", axis=1)\n",
    "      .assign(course_students_enrolled = lambda x: x[\"course_students_enrolled\"].apply(\n",
    "          lambda value: int(float(value.replace(\"k\",\"\")) * 1e3) if \"k\" in value else int(float(value.replace(\"m\",\"\")) * 1e6)\n",
    "        ))\n",
    "      .rename(columns={\n",
    "          \"course_title\":\"title\",\n",
    "          \"course_organization\":\"organization\",\n",
    "          \"course_Certificate_type\":\"certificate type\",\n",
    "          \"course_rating\":\"rating\",\n",
    "          \"course_difficulty\":\"difficulty\",\n",
    "          \"course_students_enrolled\":\"students\"\n",
    "      })\n",
    "      )\n",
    "df.head()"
   ]
  },
  {
   "cell_type": "markdown",
   "metadata": {},
   "source": [
    "### 2.3 We check whether there are any missing values in the dataset"
   ]
  },
  {
   "cell_type": "code",
   "execution_count": null,
   "metadata": {},
   "outputs": [],
   "source": [
    "zeroes = (df == 0).sum()\n",
    "empty_strings = (df.replace(r\"^\\s*$\", \"\", regex=True) == \"\").sum()\n",
    "nas = df.isna().sum()\n",
    "combined_counts = pd.DataFrame({\n",
    "    \"Zeroes\": zeroes,\n",
    "    \"Empty Strings\": empty_strings,\n",
    "    \"NaN\": nas\n",
    "    })\n",
    "combined_counts"
   ]
  },
  {
   "cell_type": "markdown",
   "metadata": {},
   "source": [
    "It seems like there are none, great!"
   ]
  },
  {
   "cell_type": "markdown",
   "metadata": {},
   "source": [
    "### 2.4 We check for any duplicate values"
   ]
  },
  {
   "cell_type": "code",
   "execution_count": null,
   "metadata": {},
   "outputs": [],
   "source": [
    "print(df.duplicated().sum())\n",
    "print(df.T.duplicated().sum())\n",
    "print(df[\"title\"].duplicated().sum())"
   ]
  },
  {
   "cell_type": "markdown",
   "metadata": {},
   "source": [
    "It seems like we have 3 identically named courses. Let's inspect them."
   ]
  },
  {
   "cell_type": "code",
   "execution_count": null,
   "metadata": {},
   "outputs": [],
   "source": [
    "df[df[\"title\"].duplicated(keep=False)]"
   ]
  },
  {
   "cell_type": "markdown",
   "metadata": {},
   "source": [
    "We can see that Berklee College of Music provides 2 course types for the same skill, one being a short course, the other being a full-fledged specialization course. As for Machine Learning and Marketing Digital courses, it seems like different organizations are providing course for these topics, implying that these specific skillsets might be in high demand."
   ]
  },
  {
   "cell_type": "markdown",
   "metadata": {},
   "source": [
    "### 2.5 How many observations do we have in total?"
   ]
  },
  {
   "cell_type": "code",
   "execution_count": null,
   "metadata": {},
   "outputs": [],
   "source": [
    "print(f\"There are a total of {len(df)} observations.\")"
   ]
  },
  {
   "cell_type": "markdown",
   "metadata": {},
   "source": [
    "### 2.6 Let's split our features into numerical and categorical"
   ]
  },
  {
   "cell_type": "code",
   "execution_count": null,
   "metadata": {},
   "outputs": [],
   "source": [
    "numeric = [feature for feature in df if df[feature].dtype in [\"int64\",\"float64\"]]\n",
    "categorical = [feature for feature in df if df[feature].dtype not in [\"int64\",\"float64\"]]\n",
    "print(numeric)\n",
    "print(categorical)"
   ]
  },
  {
   "cell_type": "markdown",
   "metadata": {},
   "source": [
    "### 2.7 Let's check for outliers using the **IQR** method"
   ]
  },
  {
   "cell_type": "code",
   "execution_count": null,
   "metadata": {},
   "outputs": [],
   "source": [
    "outliers = find_outliers(df,numeric)\n",
    "print(f\"Outliers:\\n{outliers}\")"
   ]
  },
  {
   "cell_type": "markdown",
   "metadata": {},
   "source": [
    "We can see that there are quite a few outliers. To inspect each feature's outliers to see if any of them are random errors/anomalies, or if they're all legitimate values, let's also look at some statistical summary for these features."
   ]
  },
  {
   "cell_type": "code",
   "execution_count": null,
   "metadata": {},
   "outputs": [],
   "source": [
    "df[numeric].agg([\"min\",\"median\",\"max\",\"std\"])"
   ]
  },
  {
   "cell_type": "markdown",
   "metadata": {},
   "source": [
    "While we do have outliers in the \"rating\" and \"students\" columns, all of them seem to fall within reasonable ranges of realistic features. Having low-rated courses as outliers means that the majority of the courses are rated very highly, and since our median student count is about 42k, while the minimum is only 1.5k, most higher values will be identified as outliers. To keep the analysis accurate, we will not be removing this data, but let's explore it further right now."
   ]
  },
  {
   "cell_type": "markdown",
   "metadata": {},
   "source": [
    "## 3. Data analysis"
   ]
  },
  {
   "cell_type": "markdown",
   "metadata": {},
   "source": [
    "### 3.1 Let's check the distribution of enrolled students visually"
   ]
  },
  {
   "cell_type": "code",
   "execution_count": null,
   "metadata": {},
   "outputs": [],
   "source": [
    "ax = sns.boxplot(data=df[\"students\"], orient=\"h\")\n",
    "ax.set_title(\"Distribution of enrolled students\")\n",
    "ax.set_xlabel(\"Number of students (in millions)\")\n",
    "plt.show()\n",
    "df[\"students\"].describe()"
   ]
  },
  {
   "cell_type": "markdown",
   "metadata": {},
   "source": [
    "As we saw before, the distribution is very tight on the lower side. 75% of the courses fall within less than 100k enrollments. This makes the more in-demand courses appear as strong outliers, with quite a few of them reaching values above half a million."
   ]
  },
  {
   "cell_type": "markdown",
   "metadata": {},
   "source": [
    "### 3.2 To understand the enrollment distribution better, let's visualize it after applying the **Logarithmic Scale**"
   ]
  },
  {
   "cell_type": "code",
   "execution_count": null,
   "metadata": {},
   "outputs": [],
   "source": [
    "plt.figure(figsize=(10, 6))\n",
    "ax = sns.histplot(data=df[\"students\"], log_scale=True, kde=True)\n",
    "ax.set_ylabel(\"Number of courses\")\n",
    "ax.set_xlabel(\"Number of students enrolled (Logarithmic Scale)\")\n",
    "ax.set_title(\"Distribution of enrolled students (Logarithmic Scale)\")\n",
    "plt.show()"
   ]
  },
  {
   "cell_type": "markdown",
   "metadata": {},
   "source": [
    "Now we see a more normal, bell-shaped distribution. We can see that most enrollments are between 10,000 and 100,000, with the values rapidly dropping on both sides. The **Logarithmic Scale** transformation helped us better illustrate the enrollment distribution."
   ]
  },
  {
   "cell_type": "markdown",
   "metadata": {},
   "source": [
    "We must note that while we see the amount of enrolled students for each course, we do **not** know the exact status of them. While the courses with the most enrollments may be popular, the number of students that have actually finished the course may be very slim. Therefore, to make more accurate analysis and predictions, we would benefit from having the number of students that have completed each course in our dataset."
   ]
  },
  {
   "cell_type": "markdown",
   "metadata": {},
   "source": [
    "### 3.3 Let's analyze the rating distribution based on the course's difficulty"
   ]
  },
  {
   "cell_type": "code",
   "execution_count": null,
   "metadata": {},
   "outputs": [],
   "source": [
    "difficulty_order = [\"Beginner\", \"Intermediate\", \"Advanced\", \"Mixed\"]\n",
    "\n",
    "ax = sns.boxplot(data=df, x=\"difficulty\", y=\"rating\", order=difficulty_order)\n",
    "ax.set_title(\"Rating distribution between different course difficulties\")\n",
    "ax.set_ylabel(\"Rating\")\n",
    "ax.set_xlabel(\"Course difficulty\")\n",
    "plt.show()\n",
    "\n",
    "df.groupby(\"difficulty\")[\"rating\"].agg([\"min\",\"median\",\"max\"]).reindex(difficulty_order)"
   ]
  },
  {
   "cell_type": "markdown",
   "metadata": {},
   "source": [
    "As we saw before from the outliers, ratings of 4.2 and below are far from the median, since most courses are rated very highly. It seems like the beginner and advanced difficulty courses have the best rating overall, while quite a few courses in the intermediate difficulty tend to receive ratings in the lower outlier range."
   ]
  },
  {
   "cell_type": "markdown",
   "metadata": {},
   "source": [
    "### 3.4 What are the highest and lowest rated courses?"
   ]
  },
  {
   "cell_type": "code",
   "execution_count": null,
   "metadata": {},
   "outputs": [],
   "source": [
    "highest_rated_courses = df[df[\"rating\"] == 5]\n",
    "lowest_rated_courses = df[df[\"rating\"] < 3.8]\n",
    "courses_of_interest = pd.concat([highest_rated_courses, lowest_rated_courses])\n",
    "courses_of_interest.head()"
   ]
  },
  {
   "cell_type": "markdown",
   "metadata": {},
   "source": [
    "It seems like the courses with a maximum rating of 5 are very niche, as they have the lowest amount of students. However, while they may be niche, the rating indicates good quality of the course.\n",
    "\n",
    "For the lowest rated courses, it seems like the course quality may be poor, as the topics themselves are in demand (web-making and machine learning skills are well needed these days)."
   ]
  },
  {
   "cell_type": "markdown",
   "metadata": {},
   "source": [
    "### 3.5 How many unique organizations are there?"
   ]
  },
  {
   "cell_type": "code",
   "execution_count": null,
   "metadata": {},
   "outputs": [],
   "source": [
    "print(f\"There are a total of {len(df['organization'].unique())} unique organizations providing courses.\")"
   ]
  },
  {
   "cell_type": "markdown",
   "metadata": {},
   "source": [
    "### 3.6 Let's visualize the top 15 organizations by the amount of courses they provide"
   ]
  },
  {
   "cell_type": "code",
   "execution_count": null,
   "metadata": {},
   "outputs": [],
   "source": [
    "organization_list = (df[\"organization\"].value_counts()\n",
    "                     .reset_index()\n",
    "                     .head(15))\n",
    "\n",
    "ax = sns.barplot(data=organization_list, x=\"count\", y=\"organization\")\n",
    "add_labels(ax, \"h\")\n",
    "ax.set_ylabel(\"Organization\")\n",
    "ax.set_xlabel(\"Number of courses provided\")\n",
    "ax.set_title(\"Top 15 organizations by number of courses provided\")\n",
    "plt.show()"
   ]
  },
  {
   "cell_type": "markdown",
   "metadata": {},
   "source": [
    "We can see that the University of Pennsylvania has the most courses by far, followed by the University of Michigan. There are still quite a lot of organizations with at least 10 courses provided, but they are not as prominent in quantity. However, high quantity of courses does not imply high quality. We would need to inspect the top providers by each of their courses to better determine the quality of these organizations."
   ]
  },
  {
   "cell_type": "markdown",
   "metadata": {},
   "source": [
    "### 3.7 For comparison, let's visualize the top 15 organizations by their average ratings"
   ]
  },
  {
   "cell_type": "code",
   "execution_count": null,
   "metadata": {},
   "outputs": [],
   "source": [
    "organization_rating = (df.groupby(\"organization\")[\"rating\"]\n",
    "                       .median()\n",
    "                       .reset_index()\n",
    "                       .sort_values(by=\"rating\", ascending=False)\n",
    "                       .head(15))\n",
    "\n",
    "ax = sns.barplot(data=organization_rating, x=\"rating\", y=\"organization\")\n",
    "add_labels(ax,\"h\")\n",
    "ax.set_ylabel(\"Organization\")\n",
    "ax.set_xlabel(\"Average rating\")\n",
    "ax.set_title(\"Top 15 organizations by average rating\")\n",
    "plt.show()"
   ]
  },
  {
   "cell_type": "markdown",
   "metadata": {},
   "source": [
    "We see that the previously seen frontrunners in the number of courses don't really appear in the top courses by average rating. This solidifies our hypothesis that having many courses does not necessarily mean they are all of good quality."
   ]
  },
  {
   "cell_type": "markdown",
   "metadata": {},
   "source": [
    "### 3.8 Let's see the distribution of different certificate types by course difficulty"
   ]
  },
  {
   "cell_type": "code",
   "execution_count": null,
   "metadata": {},
   "outputs": [],
   "source": [
    "certificate_difficulty_data = df.groupby(['certificate type', 'difficulty']).size().reset_index(name=\"count\")\n",
    "\n",
    "ax = sns.barplot(data=certificate_difficulty_data, x=\"certificate type\", y=\"count\", hue=\"difficulty\", hue_order=difficulty_order)\n",
    "add_labels(ax)\n",
    "ax.set_ylabel(\"Number of courses\")\n",
    "ax.set_xlabel(\"Certificate type\")\n",
    "ax.set_title(\"Certificate type distribution by difficulty\")\n",
    "plt.show()"
   ]
  },
  {
   "cell_type": "markdown",
   "metadata": {},
   "source": [
    "We can see that the professional certificate courses are mainly of beginner difficulty, with a couple of intermediate difficulty courses. For normal and specialization courses, the beginner difficulty is by far the most occuring one, implying that most students on Coursera may want to start learning new skills. While the intermediate difficulty is still prominent, there are barely any advanced courses provided, suggesting that not too many organizations may have the required variety of high-level skills that would work with Coursera's platform."
   ]
  },
  {
   "cell_type": "markdown",
   "metadata": {},
   "source": [
    "### 3.9 Let's visualize the ratings of courses based on the number of students"
   ]
  },
  {
   "cell_type": "code",
   "execution_count": null,
   "metadata": {},
   "outputs": [],
   "source": [
    "ax = sns.scatterplot(data=df, x=\"students\", y=\"rating\", hue=\"certificate type\", alpha=0.7)\n",
    "ax.set_ylabel(\"Rating\")\n",
    "ax.set_xlabel(\"Number of students (milions)\")\n",
    "ax.set_title(\"Ratings distribution by number of students and certificate type\")\n",
    "plt.show()"
   ]
  },
  {
   "cell_type": "markdown",
   "metadata": {},
   "source": [
    "What's quite impressive is that the courses with the most students all have high ratings (4.8 or above). As so many students are taking these courses, the rating must be accurate and suggest these specific courses are of a very high quality."
   ]
  },
  {
   "cell_type": "markdown",
   "metadata": {},
   "source": [
    "### 3.10 What's the most popular course?"
   ]
  },
  {
   "cell_type": "code",
   "execution_count": null,
   "metadata": {},
   "outputs": [],
   "source": [
    "most_popular_course = df.iloc[df[\"students\"].idxmax()]\n",
    "\n",
    "print(f'The course with the most enrolments ({most_popular_course[\"students\"]}) is {most_popular_course[\"title\"]}, ran by {most_popular_course[\"organization\"]}, with a rating of {most_popular_course[\"rating\"]}.')"
   ]
  },
  {
   "cell_type": "markdown",
   "metadata": {},
   "source": [
    "Machine Learning is a skill in high demand currently, and a rating of 4.9 suggests good quality of the course. These factors indicate that the course is well-regarded."
   ]
  },
  {
   "cell_type": "markdown",
   "metadata": {},
   "source": [
    "### 3.11 What's the least popular course?"
   ]
  },
  {
   "cell_type": "code",
   "execution_count": null,
   "metadata": {},
   "outputs": [],
   "source": [
    "least_popular_course = df.iloc[df[\"students\"].idxmin()]\n",
    "\n",
    "print(f'The course with the least enrolments ({least_popular_course[\"students\"]}) is {least_popular_course[\"title\"]}, ran by {least_popular_course[\"organization\"]}, with a rating of {least_popular_course[\"rating\"]}.')"
   ]
  },
  {
   "cell_type": "markdown",
   "metadata": {},
   "source": [
    "As we noticed previously, the least popular course has the maximum rating of 5, and is also quite niche. It seems to be a Spanish course on Law, which can lead to possible further analization on the skill interest in Spain."
   ]
  },
  {
   "cell_type": "markdown",
   "metadata": {},
   "source": [
    "### 3.12 Let's check whether there is any correlation between the course rating and students enrolled"
   ]
  },
  {
   "cell_type": "code",
   "execution_count": null,
   "metadata": {},
   "outputs": [],
   "source": [
    "correlation = df[numeric].corr()\n",
    "plt.figure(figsize=(12, 6))\n",
    "mask = np.triu(np.ones_like(correlation, dtype=bool))\n",
    "ax = sns.heatmap(correlation, cmap=cmap, annot=True, mask=mask, vmax=1, vmin=-1)\n",
    "ax.set_title(\"Correlation matrix of Course Rating vs. Students Enrolled\")\n",
    "plt.show()"
   ]
  },
  {
   "cell_type": "markdown",
   "metadata": {},
   "source": [
    "It seems like there is no correlation, which is what we also noticed from our previous visualizations - some courses with the highest ratings have the least amount of students, while there are also courses with subpar ratings that have over 500k students."
   ]
  },
  {
   "cell_type": "markdown",
   "metadata": {},
   "source": [
    "## 4. Conclusion"
   ]
  },
  {
   "cell_type": "markdown",
   "metadata": {},
   "source": [
    "After exploring and analyzing our dataset, we have come to these conclusions:\n",
    "\n",
    "- **Course popularity and engagement**: *Beginner* and *Intermediate* difficulties take up the majority of the observations, with only a few *Advanced* courses;\n",
    "- **Course ratings**: *Beginner* and *Advanced* courses generally have more stable ratings. There also seems to be no correlation between ratings and the number of students enrolled;\n",
    "- **Certificate types**: the *Course* type is in the lead, followed by substantial *Specialization* amount and very few *Professional Certificate* courses;\n",
    "- **Difficulty level**: the vast majority of courses are *Beginner* level, with *Mixed* and *Intermediate* difficulty being on the same level. However, as with *Professional Certificate* courses, the *Advanced* level courses are very sparse."
   ]
  },
  {
   "cell_type": "markdown",
   "metadata": {},
   "source": [
    "## 5. Future improvements"
   ]
  },
  {
   "cell_type": "markdown",
   "metadata": {},
   "source": [
    "- Assign numeric values to **difficulties** of courses to do some more visual comparison (such as correlations);\n",
    "- Check the relationship between enrolled students and course's **difficulty**;\n",
    "- Analyze courses by number of students that have actually finished the course (expansion on dataset needed)."
   ]
  }
 ],
 "metadata": {
  "kernelspec": {
   "display_name": ".venv",
   "language": "python",
   "name": "python3"
  },
  "language_info": {
   "codemirror_mode": {
    "name": "ipython",
    "version": 3
   },
   "file_extension": ".py",
   "mimetype": "text/x-python",
   "name": "python",
   "nbconvert_exporter": "python",
   "pygments_lexer": "ipython3",
   "version": "3.11.9"
  }
 },
 "nbformat": 4,
 "nbformat_minor": 2
}
